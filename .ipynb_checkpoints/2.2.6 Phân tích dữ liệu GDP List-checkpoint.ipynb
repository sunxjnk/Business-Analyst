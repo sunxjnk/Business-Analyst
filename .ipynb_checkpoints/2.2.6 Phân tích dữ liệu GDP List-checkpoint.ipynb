{
 "cells": [
  {
   "cell_type": "code",
   "execution_count": 20,
   "id": "16389ec7",
   "metadata": {},
   "outputs": [],
   "source": [
    "import pandas as pd"
   ]
  },
  {
   "cell_type": "code",
   "execution_count": 21,
   "id": "913a93aa",
   "metadata": {},
   "outputs": [
    {
     "data": {
      "text/html": [
       "<div>\n",
       "<style scoped>\n",
       "    .dataframe tbody tr th:only-of-type {\n",
       "        vertical-align: middle;\n",
       "    }\n",
       "\n",
       "    .dataframe tbody tr th {\n",
       "        vertical-align: top;\n",
       "    }\n",
       "\n",
       "    .dataframe thead th {\n",
       "        text-align: right;\n",
       "    }\n",
       "</style>\n",
       "<table border=\"1\" class=\"dataframe\">\n",
       "  <thead>\n",
       "    <tr style=\"text-align: right;\">\n",
       "      <th></th>\n",
       "      <th>Country</th>\n",
       "      <th>Continent</th>\n",
       "      <th>GDP (millions of US$)</th>\n",
       "    </tr>\n",
       "  </thead>\n",
       "  <tbody>\n",
       "    <tr>\n",
       "      <th>0</th>\n",
       "      <td>Afghanistan</td>\n",
       "      <td>Asia</td>\n",
       "      <td>18181</td>\n",
       "    </tr>\n",
       "    <tr>\n",
       "      <th>1</th>\n",
       "      <td>Albania</td>\n",
       "      <td>Europe</td>\n",
       "      <td>12847</td>\n",
       "    </tr>\n",
       "    <tr>\n",
       "      <th>2</th>\n",
       "      <td>Algeria</td>\n",
       "      <td>Africa</td>\n",
       "      <td>190709</td>\n",
       "    </tr>\n",
       "    <tr>\n",
       "      <th>3</th>\n",
       "      <td>Angola</td>\n",
       "      <td>Africa</td>\n",
       "      <td>100948</td>\n",
       "    </tr>\n",
       "    <tr>\n",
       "      <th>4</th>\n",
       "      <td>Argentina</td>\n",
       "      <td>South America</td>\n",
       "      <td>447644</td>\n",
       "    </tr>\n",
       "    <tr>\n",
       "      <th>5</th>\n",
       "      <td>Australia</td>\n",
       "      <td>Oceania</td>\n",
       "      <td>1488221</td>\n",
       "    </tr>\n",
       "    <tr>\n",
       "      <th>6</th>\n",
       "      <td>Austria</td>\n",
       "      <td>Europe</td>\n",
       "      <td>419243</td>\n",
       "    </tr>\n",
       "    <tr>\n",
       "      <th>7</th>\n",
       "      <td>Azerbaijan</td>\n",
       "      <td>Europe</td>\n",
       "      <td>62321</td>\n",
       "    </tr>\n",
       "    <tr>\n",
       "      <th>8</th>\n",
       "      <td>Bahrain</td>\n",
       "      <td>Asia</td>\n",
       "      <td>26108</td>\n",
       "    </tr>\n",
       "    <tr>\n",
       "      <th>9</th>\n",
       "      <td>Bangladesh</td>\n",
       "      <td>Asia</td>\n",
       "      <td>113032</td>\n",
       "    </tr>\n",
       "  </tbody>\n",
       "</table>\n",
       "</div>"
      ],
      "text/plain": [
       "        Country      Continent  GDP (millions of US$)\n",
       "0   Afghanistan           Asia                  18181\n",
       "1       Albania         Europe                  12847\n",
       "2       Algeria         Africa                 190709\n",
       "3        Angola         Africa                 100948\n",
       "4     Argentina  South America                 447644\n",
       "5     Australia        Oceania                1488221\n",
       "6       Austria         Europe                 419243\n",
       "7    Azerbaijan         Europe                  62321\n",
       "8       Bahrain           Asia                  26108\n",
       "9    Bangladesh           Asia                 113032"
      ]
     },
     "execution_count": 21,
     "metadata": {},
     "output_type": "execute_result"
    }
   ],
   "source": [
    "#Câu 1: Đọc bộ dữ liệu\n",
    "df = pd.read_csv('GDPlist.csv', encoding = 'ISO-8859-1')\n",
    "df.head(10)"
   ]
  },
  {
   "cell_type": "code",
   "execution_count": 22,
   "id": "1c6bb9a2",
   "metadata": {},
   "outputs": [
    {
     "name": "stdout",
     "output_type": "stream",
     "text": [
      "số dòng là:  125\n",
      "số cột là:  3\n"
     ]
    }
   ],
   "source": [
    "#câu 1:Cho biết số dòng, số cột\n",
    "print(\"số dòng là: \", df.shape[0])\n",
    "print(\"số cột là: \", df.shape[1])"
   ]
  },
  {
   "cell_type": "code",
   "execution_count": 6,
   "id": "68bf49e9",
   "metadata": {},
   "outputs": [
    {
     "data": {
      "text/plain": [
       "Country                  object\n",
       "Continent                object\n",
       "GDP (millions of US$)     int64\n",
       "dtype: object"
      ]
     },
     "execution_count": 6,
     "metadata": {},
     "output_type": "execute_result"
    }
   ],
   "source": [
    "#câu 1: Kiểu dữ liệu các thuộc tính\n",
    "df.dtypes"
   ]
  },
  {
   "cell_type": "code",
   "execution_count": 7,
   "id": "34764bc2",
   "metadata": {},
   "outputs": [],
   "source": [
    "#Câu 2: Tính giá trị lớn nhất và nhỏ nhất của GDP.\n",
    "df_GDP = df['GDP (millions of US$)']"
   ]
  },
  {
   "cell_type": "code",
   "execution_count": 8,
   "id": "1b011488",
   "metadata": {},
   "outputs": [
    {
     "name": "stdout",
     "output_type": "stream",
     "text": [
      "Giá trị nhỏ nhất của GDP là:  10600\n"
     ]
    }
   ],
   "source": [
    "#GTNN\n",
    "print(\"Giá trị nhỏ nhất của GDP là: \",df_GDP.min())"
   ]
  },
  {
   "cell_type": "code",
   "execution_count": 9,
   "id": "86bcf77a",
   "metadata": {},
   "outputs": [
    {
     "name": "stdout",
     "output_type": "stream",
     "text": [
      "Giá trị lớn nhất của GDP là:  15094025\n"
     ]
    }
   ],
   "source": [
    "#GTLN\n",
    "print(\"Giá trị lớn nhất của GDP là: \",df_GDP.max())"
   ]
  },
  {
   "cell_type": "code",
   "execution_count": 10,
   "id": "1eb227fd",
   "metadata": {},
   "outputs": [
    {
     "data": {
      "text/plain": [
       "555427.784"
      ]
     },
     "execution_count": 10,
     "metadata": {},
     "output_type": "execute_result"
    }
   ],
   "source": [
    "#Câu 3: Hãy cho biết xu hướng phân bố dữ liệu của GDP.\n",
    "#trung bình\n",
    "df_GDP.mean()"
   ]
  },
  {
   "cell_type": "code",
   "execution_count": 11,
   "id": "6c28ea86",
   "metadata": {},
   "outputs": [
    {
     "data": {
      "text/plain": [
       "96089.0"
      ]
     },
     "execution_count": 11,
     "metadata": {},
     "output_type": "execute_result"
    }
   ],
   "source": [
    "#trung vị\n",
    "df_GDP.median()"
   ]
  },
  {
   "cell_type": "code",
   "execution_count": 12,
   "id": "1be6f1d4",
   "metadata": {},
   "outputs": [
    {
     "data": {
      "text/plain": [
       "0         10600\n",
       "1         11313\n",
       "2         12461\n",
       "3         12655\n",
       "4         12827\n",
       "         ...   \n",
       "120     2776324\n",
       "121     3577031\n",
       "122     5869471\n",
       "123     7298147\n",
       "124    15094025\n",
       "Name: GDP (millions of US$), Length: 125, dtype: int64"
      ]
     },
     "execution_count": 12,
     "metadata": {},
     "output_type": "execute_result"
    }
   ],
   "source": [
    "df_GDP.mode()"
   ]
  },
  {
   "cell_type": "code",
   "execution_count": null,
   "id": "b1de6e61",
   "metadata": {},
   "outputs": [],
   "source": [
    "print(\"Vì \")"
   ]
  },
  {
   "cell_type": "code",
   "execution_count": 13,
   "id": "e8a92a0b",
   "metadata": {},
   "outputs": [
    {
     "name": "stdout",
     "output_type": "stream",
     "text": [
      "Châu lục xuất hiện nhiều nhất là:  South America\n"
     ]
    }
   ],
   "source": [
    "#câu 4:Hãy cho biết châu lục nào xuất hiện nhiều nhất?\n",
    "df_Continent = df['Continent']\n",
    "print(\"Châu lục xuất hiện nhiều nhất là: \", df_Continent.max())"
   ]
  },
  {
   "cell_type": "code",
   "execution_count": 14,
   "id": "74f0c5f1",
   "metadata": {},
   "outputs": [
    {
     "data": {
      "text/html": [
       "<div>\n",
       "<style scoped>\n",
       "    .dataframe tbody tr th:only-of-type {\n",
       "        vertical-align: middle;\n",
       "    }\n",
       "\n",
       "    .dataframe tbody tr th {\n",
       "        vertical-align: top;\n",
       "    }\n",
       "\n",
       "    .dataframe thead th {\n",
       "        text-align: right;\n",
       "    }\n",
       "</style>\n",
       "<table border=\"1\" class=\"dataframe\">\n",
       "  <thead>\n",
       "    <tr style=\"text-align: right;\">\n",
       "      <th></th>\n",
       "      <th>Country</th>\n",
       "      <th>Continent</th>\n",
       "      <th>GDP (millions of US$)</th>\n",
       "    </tr>\n",
       "  </thead>\n",
       "  <tbody>\n",
       "    <tr>\n",
       "      <th>0</th>\n",
       "      <td>Papua New Guinea</td>\n",
       "      <td>Oceania</td>\n",
       "      <td>12655</td>\n",
       "    </tr>\n",
       "    <tr>\n",
       "      <th>1</th>\n",
       "      <td>United Kingdom</td>\n",
       "      <td>Europe</td>\n",
       "      <td>2417570</td>\n",
       "    </tr>\n",
       "    <tr>\n",
       "      <th>2</th>\n",
       "      <td>United States</td>\n",
       "      <td>North America</td>\n",
       "      <td>15094025</td>\n",
       "    </tr>\n",
       "    <tr>\n",
       "      <th>3</th>\n",
       "      <td>Venezuela</td>\n",
       "      <td>South America</td>\n",
       "      <td>315841</td>\n",
       "    </tr>\n",
       "    <tr>\n",
       "      <th>4</th>\n",
       "      <td>Vietnam</td>\n",
       "      <td>Asia</td>\n",
       "      <td>122722</td>\n",
       "    </tr>\n",
       "    <tr>\n",
       "      <th>5</th>\n",
       "      <td>Zambia</td>\n",
       "      <td>Africa</td>\n",
       "      <td>19206</td>\n",
       "    </tr>\n",
       "  </tbody>\n",
       "</table>\n",
       "</div>"
      ],
      "text/plain": [
       "             Country      Continent  GDP (millions of US$)\n",
       "0   Papua New Guinea        Oceania                  12655\n",
       "1     United Kingdom         Europe                2417570\n",
       "2      United States  North America               15094025\n",
       "3          Venezuela  South America                 315841\n",
       "4            Vietnam           Asia                 122722\n",
       "5             Zambia         Africa                  19206"
      ]
     },
     "execution_count": 14,
     "metadata": {},
     "output_type": "execute_result"
    }
   ],
   "source": [
    "#câu 5: Với mỗi châu lục hãy tính tổng GDP; trung bình cộng GDP. Hợp nhất 2 bảng này thành một bảng duy nhất gồm 3 thông tin: Tên châu lục; Tổng GDP; TBC GDP.\n",
    "df_continent = df.drop_duplicates([\"Continent\"], keep='last').reset_index(drop=True)\n",
    "df_continent"
   ]
  },
  {
   "cell_type": "code",
   "execution_count": 15,
   "id": "8c70c4b2",
   "metadata": {},
   "outputs": [],
   "source": [
    "#Cách 1 (Cồng kềnh)\n",
    "df_Asia = df.loc[df.Continent == 'Asia']\n",
    "df_Oceania = df.loc[df.Continent == 'Oceania']\n",
    "df_Europe = df.loc[df.Continent == 'Europe']\n",
    "df_NA = df.loc[df.Continent == 'North America']\n",
    "df_SA = df.loc[df.Continent == 'South America']\n",
    "df_Africa = df.loc[df.Continent == 'Africa']"
   ]
  },
  {
   "cell_type": "code",
   "execution_count": 35,
   "id": "5bad2a22",
   "metadata": {},
   "outputs": [
    {
     "data": {
      "text/plain": [
       "1662727"
      ]
     },
     "execution_count": 35,
     "metadata": {},
     "output_type": "execute_result"
    }
   ],
   "source": [
    "#Tổng GDP tại khu vực châu Úc\n",
    "df_Oceania['GDP (millions of US$)'].sum()\n"
   ]
  },
  {
   "cell_type": "code",
   "execution_count": 26,
   "id": "77a279cd",
   "metadata": {},
   "outputs": [
    {
     "data": {
      "text/html": [
       "<div>\n",
       "<style scoped>\n",
       "    .dataframe tbody tr th:only-of-type {\n",
       "        vertical-align: middle;\n",
       "    }\n",
       "\n",
       "    .dataframe tbody tr th {\n",
       "        vertical-align: top;\n",
       "    }\n",
       "\n",
       "    .dataframe thead th {\n",
       "        text-align: right;\n",
       "    }\n",
       "</style>\n",
       "<table border=\"1\" class=\"dataframe\">\n",
       "  <thead>\n",
       "    <tr style=\"text-align: right;\">\n",
       "      <th></th>\n",
       "      <th>Continental</th>\n",
       "      <th>GDP (millions of US$)</th>\n",
       "    </tr>\n",
       "  </thead>\n",
       "  <tbody>\n",
       "    <tr>\n",
       "      <th>0</th>\n",
       "      <td>Africa</td>\n",
       "      <td>1820811</td>\n",
       "    </tr>\n",
       "  </tbody>\n",
       "</table>\n",
       "</div>"
      ],
      "text/plain": [
       "  Continental  GDP (millions of US$)\n",
       "0      Africa                1820811"
      ]
     },
     "execution_count": 26,
     "metadata": {},
     "output_type": "execute_result"
    }
   ],
   "source": [
    "#Cách 2 (Sai)\n",
    "df_continent = df.drop_duplicates([\"Continent\"], keep='last')['Continent']\n",
    "df_continent.reset_index(drop=True)\n",
    "for i in df_continent:\n",
    "    total = df.loc[df['Continent']==i].sum()\n",
    "    tuples = [(i, total['GDP (millions of US$)'])]\n",
    "pd1 = pd.DataFrame(tuples, columns=['Continental','GDP (millions of US$)'])\n",
    "pd1"
   ]
  },
  {
   "cell_type": "code",
   "execution_count": 40,
   "id": "a557b135",
   "metadata": {},
   "outputs": [],
   "source": [
    "#cách 3\n",
    "#tính tổng GDP theo châu lục\n",
    "total = df.groupby(['Continent'])['GDP (millions of US$)'].sum().to_frame()\n",
    "total.rename(columns={'GDP (millions of US$)':'GDP(sum)'},inplace=True)"
   ]
  },
  {
   "cell_type": "code",
   "execution_count": 41,
   "id": "ccfada4d",
   "metadata": {},
   "outputs": [],
   "source": [
    "#Tính trung bình GDP theo châu lục\n",
    "mean = round(df.groupby(['Continent'])['GDP (millions of US$)'].mean().to_frame(),)\n",
    "mean.rename(columns={'GDP (millions of US$)':'GDP(average)'},inplace=True)"
   ]
  },
  {
   "cell_type": "code",
   "execution_count": 43,
   "id": "ac7bd96f",
   "metadata": {},
   "outputs": [
    {
     "data": {
      "text/html": [
       "<div>\n",
       "<style scoped>\n",
       "    .dataframe tbody tr th:only-of-type {\n",
       "        vertical-align: middle;\n",
       "    }\n",
       "\n",
       "    .dataframe tbody tr th {\n",
       "        vertical-align: top;\n",
       "    }\n",
       "\n",
       "    .dataframe thead th {\n",
       "        text-align: right;\n",
       "    }\n",
       "</style>\n",
       "<table border=\"1\" class=\"dataframe\">\n",
       "  <thead>\n",
       "    <tr style=\"text-align: right;\">\n",
       "      <th></th>\n",
       "      <th>GDP(average)</th>\n",
       "      <th>GDP(sum)</th>\n",
       "    </tr>\n",
       "    <tr>\n",
       "      <th>Continent</th>\n",
       "      <th></th>\n",
       "      <th></th>\n",
       "    </tr>\n",
       "  </thead>\n",
       "  <tbody>\n",
       "    <tr>\n",
       "      <th>Africa</th>\n",
       "      <td>62787.0</td>\n",
       "      <td>1820811</td>\n",
       "    </tr>\n",
       "    <tr>\n",
       "      <th>Asia</th>\n",
       "      <td>678497.0</td>\n",
       "      <td>24425891</td>\n",
       "    </tr>\n",
       "    <tr>\n",
       "      <th>Europe</th>\n",
       "      <td>517281.0</td>\n",
       "      <td>19139380</td>\n",
       "    </tr>\n",
       "    <tr>\n",
       "      <th>North America</th>\n",
       "      <td>1658041.0</td>\n",
       "      <td>18238447</td>\n",
       "    </tr>\n",
       "    <tr>\n",
       "      <th>Oceania</th>\n",
       "      <td>554242.0</td>\n",
       "      <td>1662727</td>\n",
       "    </tr>\n",
       "    <tr>\n",
       "      <th>South America</th>\n",
       "      <td>460135.0</td>\n",
       "      <td>4141217</td>\n",
       "    </tr>\n",
       "  </tbody>\n",
       "</table>\n",
       "</div>"
      ],
      "text/plain": [
       "               GDP(average)  GDP(sum)\n",
       "Continent                            \n",
       "Africa              62787.0   1820811\n",
       "Asia               678497.0  24425891\n",
       "Europe             517281.0  19139380\n",
       "North America     1658041.0  18238447\n",
       "Oceania            554242.0   1662727\n",
       "South America      460135.0   4141217"
      ]
     },
     "execution_count": 43,
     "metadata": {},
     "output_type": "execute_result"
    }
   ],
   "source": [
    "gdp = pd.concat([mean, total], axis = 1)\n",
    "gdp"
   ]
  },
  {
   "cell_type": "code",
   "execution_count": null,
   "id": "9e4984fa",
   "metadata": {},
   "outputs": [],
   "source": []
  }
 ],
 "metadata": {
  "kernelspec": {
   "display_name": "Python 3 (ipykernel)",
   "language": "python",
   "name": "python3"
  },
  "language_info": {
   "codemirror_mode": {
    "name": "ipython",
    "version": 3
   },
   "file_extension": ".py",
   "mimetype": "text/x-python",
   "name": "python",
   "nbconvert_exporter": "python",
   "pygments_lexer": "ipython3",
   "version": "3.9.13"
  }
 },
 "nbformat": 4,
 "nbformat_minor": 5
}
