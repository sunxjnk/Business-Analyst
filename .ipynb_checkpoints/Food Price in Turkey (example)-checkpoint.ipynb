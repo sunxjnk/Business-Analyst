{
 "cells": [
  {
   "cell_type": "code",
   "execution_count": 1,
   "id": "2ac0f202",
   "metadata": {},
   "outputs": [],
   "source": [
    "import pandas as pd"
   ]
  },
  {
   "cell_type": "code",
   "execution_count": 2,
   "id": "888d88d8",
   "metadata": {},
   "outputs": [
    {
     "name": "stdout",
     "output_type": "stream",
     "text": [
      "                 Place  ProductId              ProductName  UmId UmName  \\\n",
      "0     National Average         52            Rice - Retail     5     KG   \n",
      "1     National Average         52            Rice - Retail     5     KG   \n",
      "2     National Average         52            Rice - Retail     5     KG   \n",
      "3     National Average         52            Rice - Retail     5     KG   \n",
      "4     National Average         52            Rice - Retail     5     KG   \n",
      "...                ...        ...                      ...   ...    ...   \n",
      "7376             Izmir        502  Cocoa (powder) - Retail     5     KG   \n",
      "7377             Izmir        502  Cocoa (powder) - Retail     5     KG   \n",
      "7378             Izmir        502  Cocoa (powder) - Retail     5     KG   \n",
      "7379             Izmir        502  Cocoa (powder) - Retail     5     KG   \n",
      "7380             Izmir        502  Cocoa (powder) - Retail     5     KG   \n",
      "\n",
      "      Month  Year    Price  \n",
      "0         5  2013   4.4920  \n",
      "1         6  2013   4.5786  \n",
      "2        11  2013   4.7865  \n",
      "3        12  2013   5.1337  \n",
      "4         1  2014   5.5099  \n",
      "...     ...   ...      ...  \n",
      "7376      8  2019  47.9040  \n",
      "7377      9  2019  49.1176  \n",
      "7378     10  2019  50.8347  \n",
      "7379     11  2019  51.7985  \n",
      "7380     12  2019  51.6071  \n",
      "\n",
      "[7381 rows x 8 columns]\n"
     ]
    }
   ],
   "source": [
    "#import data\n",
    "food = pd.read_csv('FoodPrice_in_Turkey.csv')\n",
    "print(food)"
   ]
  },
  {
   "cell_type": "code",
   "execution_count": 7,
   "id": "1bcb673e",
   "metadata": {},
   "outputs": [
    {
     "data": {
      "text/plain": [
       "(7381, 8)"
      ]
     },
     "execution_count": 7,
     "metadata": {},
     "output_type": "execute_result"
    }
   ],
   "source": [
    "#view rows and columns\n",
    "food.shape"
   ]
  },
  {
   "cell_type": "code",
   "execution_count": 8,
   "id": "201d7ddb",
   "metadata": {},
   "outputs": [
    {
     "data": {
      "text/plain": [
       "7381"
      ]
     },
     "execution_count": 8,
     "metadata": {},
     "output_type": "execute_result"
    }
   ],
   "source": [
    "#view rows\n",
    "food.shape[0]"
   ]
  },
  {
   "cell_type": "code",
   "execution_count": 9,
   "id": "ceca0ca9",
   "metadata": {},
   "outputs": [
    {
     "data": {
      "text/plain": [
       "8"
      ]
     },
     "execution_count": 9,
     "metadata": {},
     "output_type": "execute_result"
    }
   ],
   "source": [
    "#view columns\n",
    "food.shape[1]"
   ]
  },
  {
   "cell_type": "code",
   "execution_count": 10,
   "id": "63aefbbb",
   "metadata": {},
   "outputs": [
    {
     "data": {
      "text/plain": [
       "Index(['Place', 'ProductId', 'ProductName', 'UmId', 'UmName', 'Month', 'Year',\n",
       "       'Price'],\n",
       "      dtype='object')"
      ]
     },
     "execution_count": 10,
     "metadata": {},
     "output_type": "execute_result"
    }
   ],
   "source": [
    "#view name of columns\n",
    "food.columns"
   ]
  },
  {
   "cell_type": "code",
   "execution_count": 13,
   "id": "a6ad5d35",
   "metadata": {},
   "outputs": [
    {
     "data": {
      "text/plain": [
       "Place           object\n",
       "ProductId        int64\n",
       "ProductName     object\n",
       "UmId             int64\n",
       "UmName          object\n",
       "Month            int64\n",
       "Year             int64\n",
       "Price          float64\n",
       "dtype: object"
      ]
     },
     "execution_count": 13,
     "metadata": {},
     "output_type": "execute_result"
    }
   ],
   "source": [
    "#check data type by using attribute\n",
    "food.dtypes"
   ]
  },
  {
   "cell_type": "code",
   "execution_count": 15,
   "id": "57ecf3c0",
   "metadata": {},
   "outputs": [
    {
     "name": "stdout",
     "output_type": "stream",
     "text": [
      "<class 'pandas.core.frame.DataFrame'>\n",
      "RangeIndex: 7381 entries, 0 to 7380\n",
      "Data columns (total 8 columns):\n",
      " #   Column       Non-Null Count  Dtype  \n",
      "---  ------       --------------  -----  \n",
      " 0   Place        7381 non-null   object \n",
      " 1   ProductId    7381 non-null   int64  \n",
      " 2   ProductName  7381 non-null   object \n",
      " 3   UmId         7381 non-null   int64  \n",
      " 4   UmName       7381 non-null   object \n",
      " 5   Month        7381 non-null   int64  \n",
      " 6   Year         7381 non-null   int64  \n",
      " 7   Price        7381 non-null   float64\n",
      "dtypes: float64(1), int64(4), object(3)\n",
      "memory usage: 461.4+ KB\n"
     ]
    }
   ],
   "source": [
    "#check data type by using method\n",
    "food.info()"
   ]
  },
  {
   "cell_type": "code",
   "execution_count": null,
   "id": "20dde47c",
   "metadata": {},
   "outputs": [],
   "source": []
  }
 ],
 "metadata": {
  "kernelspec": {
   "display_name": "Python 3 (ipykernel)",
   "language": "python",
   "name": "python3"
  },
  "language_info": {
   "codemirror_mode": {
    "name": "ipython",
    "version": 3
   },
   "file_extension": ".py",
   "mimetype": "text/x-python",
   "name": "python",
   "nbconvert_exporter": "python",
   "pygments_lexer": "ipython3",
   "version": "3.9.13"
  }
 },
 "nbformat": 4,
 "nbformat_minor": 5
}
