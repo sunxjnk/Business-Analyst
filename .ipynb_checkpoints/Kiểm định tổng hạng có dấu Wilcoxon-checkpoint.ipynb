{
 "cells": [
  {
   "cell_type": "code",
   "execution_count": 1,
   "id": "80218093",
   "metadata": {},
   "outputs": [],
   "source": [
    "import pandas as pd\n",
    "import matplotlib.pyplot as plt\n",
    "import seaborn as sns\n",
    "import scipy\n",
    "from scipy import stats\n",
    "import numpy as np"
   ]
  },
  {
   "cell_type": "code",
   "execution_count": 3,
   "id": "61e7d681",
   "metadata": {},
   "outputs": [],
   "source": [
    "# Số lượng túi màu đen bán ra - số lượng túi màu đỏ:\n",
    "x = np.array([3,4,-1,2,1,-2,5,-1,-2,-2,3,0,-2,5,-2])"
   ]
  },
  {
   "cell_type": "code",
   "execution_count": 5,
   "id": "8a279237",
   "metadata": {},
   "outputs": [
    {
     "name": "stdout",
     "output_type": "stream",
     "text": [
      "WilcoxonResult(statistic=36.5, pvalue=0.31023779780459937)\n"
     ]
    },
    {
     "name": "stderr",
     "output_type": "stream",
     "text": [
      "D:\\Anaconda\\lib\\site-packages\\scipy\\stats\\_morestats.py:3255: UserWarning: Exact p-value calculation does not work if there are zeros. Switching to normal approximation.\n",
      "  warnings.warn(\"Exact p-value calculation does not work if there are \"\n"
     ]
    }
   ],
   "source": [
    "print(stats.wilcoxon(x))"
   ]
  },
  {
   "cell_type": "markdown",
   "id": "ca50a5cb",
   "metadata": {},
   "source": [
    "Do p-value > 0.5: không đủ cơ sở để bác bỏ"
   ]
  },
  {
   "cell_type": "markdown",
   "id": "b329a4fc",
   "metadata": {},
   "source": [
    "Kết luận: Không có sự khác biệt về số lượng túi bán ra giữa hai loại"
   ]
  },
  {
   "cell_type": "code",
   "execution_count": null,
   "id": "17ca3bfd",
   "metadata": {},
   "outputs": [],
   "source": []
  }
 ],
 "metadata": {
  "kernelspec": {
   "display_name": "Python 3 (ipykernel)",
   "language": "python",
   "name": "python3"
  },
  "language_info": {
   "codemirror_mode": {
    "name": "ipython",
    "version": 3
   },
   "file_extension": ".py",
   "mimetype": "text/x-python",
   "name": "python",
   "nbconvert_exporter": "python",
   "pygments_lexer": "ipython3",
   "version": "3.9.13"
  }
 },
 "nbformat": 4,
 "nbformat_minor": 5
}
