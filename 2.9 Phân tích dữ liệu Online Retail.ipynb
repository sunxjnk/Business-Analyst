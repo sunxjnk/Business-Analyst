{
 "cells": [
  {
   "cell_type": "code",
   "execution_count": 1,
   "id": "bb1d79a8",
   "metadata": {},
   "outputs": [],
   "source": [
    "import pandas as pd"
   ]
  },
  {
   "cell_type": "code",
   "execution_count": 2,
   "id": "0243cce5",
   "metadata": {},
   "outputs": [
    {
     "name": "stdout",
     "output_type": "stream",
     "text": [
      "số dòng là:  541909\n",
      "số cột là:  8\n",
      "Kiểu dữ liệu là:  InvoiceNo       object\n",
      "StockCode       object\n",
      "Description     object\n",
      "Quantity         int64\n",
      "InvoiceDate     object\n",
      "UnitPrice      float64\n",
      "CustomerID     float64\n",
      "Country         object\n",
      "dtype: object\n"
     ]
    }
   ],
   "source": [
    "#câu 1: Đọc bộ dữ liệu, cho biết số dòng, số cột và kiểu dữ liệu của các thuộc tính.\n",
    "df = pd.read_csv('OnlineRetail.csv', encoding = 'ISO-8859-1')\n",
    "print(\"số dòng là: \", df.shape[0])\n",
    "print(\"số cột là: \", df.shape[1])\n",
    "print(\"Kiểu dữ liệu là: \", df.dtypes)"
   ]
  },
  {
   "cell_type": "code",
   "execution_count": 3,
   "id": "87e9df5c",
   "metadata": {},
   "outputs": [],
   "source": [
    "#Câu 2: Trích xuất dữ liệu các cột Description và Quantity lưu vào file OnlineRetail1.csv\n",
    "df_Description = df['Description']\n",
    "df_Quantity = df['Quantity']\n",
    "df2 = pd.concat([df_Description, df_Quantity], axis = 1)\n",
    "df2.to_csv('OnlineRetail1.csv')"
   ]
  },
  {
   "cell_type": "code",
   "execution_count": 4,
   "id": "f7d3f2ad",
   "metadata": {},
   "outputs": [],
   "source": [
    "#câu 3: Trích xuất dữ liệu 1000 dòng đầu tiên lưu vào file OnlineRetail.xlsx\n",
    "df3 = df.head(1000)\n",
    "df3.to_excel('OnlineRetail.xlsx')"
   ]
  },
  {
   "cell_type": "code",
   "execution_count": 5,
   "id": "7a1d4009",
   "metadata": {},
   "outputs": [
    {
     "name": "stderr",
     "output_type": "stream",
     "text": [
      "C:\\Users\\lengu\\AppData\\Local\\Temp\\ipykernel_9280\\3371735305.py:3: PerformanceWarning: \n",
      "your performance may suffer as PyTables will pickle object types that it cannot\n",
      "map directly to c-types [inferred_type->mixed,key->block2_values] [items->Index(['InvoiceNo', 'StockCode', 'Description', 'InvoiceDate', 'Country'], dtype='object')]\n",
      "\n",
      "  df4.to_hdf('OnlineRetail.h5', 'table')\n"
     ]
    }
   ],
   "source": [
    "#câu 4: Trích xuất các bản ghi có số lượng từ 10 trở lên lưu vào file OnlineRetail.h5\n",
    "df4 = df.loc[df.Quantity > 10]\n",
    "df4.to_hdf('OnlineRetail.h5', 'table')"
   ]
  },
  {
   "cell_type": "code",
   "execution_count": 6,
   "id": "4109521e",
   "metadata": {},
   "outputs": [],
   "source": [
    "#câu 5: Trích xuất dữ liệu các phần tử từ dòng 1000 đến dòng 2000, các cột Quantity, InvoiceDate, UnitPrice lưu vào file OnlineRetail.json\n",
    "df_InvoiceDate = df['InvoiceDate']\n",
    "df_UnitPrice = df['UnitPrice']\n",
    "df5 = pd.concat([df_InvoiceDate, df_Quantity, df_UnitPrice], axis = 1)\n",
    "df5_json = df.iloc[1000:2001]\n",
    "df5_json.to_json('OnlineRetail.json',orient='columns')"
   ]
  },
  {
   "cell_type": "code",
   "execution_count": 24,
   "id": "0af5964f",
   "metadata": {},
   "outputs": [],
   "source": [
    "#Câu 6: Trích xuất các bản ghi có số hóa đơn ‘536365’ lưu vào file OnlineRetail.html\n",
    "df6 = df.loc[df.InvoiceNo == '536365']\n",
    "df6.to_html('OnlineRetail.html')"
   ]
  },
  {
   "cell_type": "code",
   "execution_count": null,
   "id": "bb7191c8",
   "metadata": {},
   "outputs": [],
   "source": []
  }
 ],
 "metadata": {
  "kernelspec": {
   "display_name": "Python 3 (ipykernel)",
   "language": "python",
   "name": "python3"
  },
  "language_info": {
   "codemirror_mode": {
    "name": "ipython",
    "version": 3
   },
   "file_extension": ".py",
   "mimetype": "text/x-python",
   "name": "python",
   "nbconvert_exporter": "python",
   "pygments_lexer": "ipython3",
   "version": "3.9.13"
  }
 },
 "nbformat": 4,
 "nbformat_minor": 5
}
