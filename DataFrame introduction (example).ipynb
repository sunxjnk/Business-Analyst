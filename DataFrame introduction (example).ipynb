{
 "cells": [
  {
   "cell_type": "code",
   "execution_count": 22,
   "id": "f7415bf3",
   "metadata": {},
   "outputs": [],
   "source": [
    "#import library\n",
    "import pandas as pd\n",
    "import numpy as np"
   ]
  },
  {
   "cell_type": "code",
   "execution_count": 2,
   "id": "22e3f2b5",
   "metadata": {},
   "outputs": [],
   "source": [
    "#create an emty Database\n",
    "df = pd.DataFrame()"
   ]
  },
  {
   "cell_type": "code",
   "execution_count": 3,
   "id": "6dd83868",
   "metadata": {},
   "outputs": [
    {
     "data": {
      "text/html": [
       "<div>\n",
       "<style scoped>\n",
       "    .dataframe tbody tr th:only-of-type {\n",
       "        vertical-align: middle;\n",
       "    }\n",
       "\n",
       "    .dataframe tbody tr th {\n",
       "        vertical-align: top;\n",
       "    }\n",
       "\n",
       "    .dataframe thead th {\n",
       "        text-align: right;\n",
       "    }\n",
       "</style>\n",
       "<table border=\"1\" class=\"dataframe\">\n",
       "  <thead>\n",
       "    <tr style=\"text-align: right;\">\n",
       "      <th></th>\n",
       "    </tr>\n",
       "  </thead>\n",
       "  <tbody>\n",
       "  </tbody>\n",
       "</table>\n",
       "</div>"
      ],
      "text/plain": [
       "Empty DataFrame\n",
       "Columns: []\n",
       "Index: []"
      ]
     },
     "execution_count": 3,
     "metadata": {},
     "output_type": "execute_result"
    }
   ],
   "source": [
    "#show 5 lines on top\n",
    "df.head(5)"
   ]
  },
  {
   "cell_type": "code",
   "execution_count": 4,
   "id": "06f2d857",
   "metadata": {},
   "outputs": [],
   "source": [
    "#create a list \n",
    "lst = ['Kế toán','Kinh doanh','Tiếp thị']"
   ]
  },
  {
   "cell_type": "code",
   "execution_count": 7,
   "id": "c92e7271",
   "metadata": {},
   "outputs": [
    {
     "name": "stdout",
     "output_type": "stream",
     "text": [
      "            0\n",
      "0     Kế toán\n",
      "1  Kinh doanh\n",
      "2    Tiếp thị\n"
     ]
    }
   ],
   "source": [
    "#create a DF and apply a list value on it\n",
    "df_lst = pd.DataFrame(lst)\n",
    "print(df_lst)"
   ]
  },
  {
   "cell_type": "code",
   "execution_count": 8,
   "id": "1a995eaa",
   "metadata": {},
   "outputs": [],
   "source": [
    "#creat a tuple\n",
    "tuples = [('Kế toán', 2000),( 'Kinh doanh', 2100), ('Tiếp thị', 1900)]"
   ]
  },
  {
   "cell_type": "code",
   "execution_count": 10,
   "id": "fd5a09a4",
   "metadata": {},
   "outputs": [
    {
     "name": "stdout",
     "output_type": "stream",
     "text": [
      "         Nghề  Lương\n",
      "0     Kế toán   2000\n",
      "1  Kinh doanh   2100\n",
      "2    Tiếp thị   1900\n"
     ]
    }
   ],
   "source": [
    "#apply tuple to DF\n",
    "df_tuples = pd.DataFrame(tuples, columns=['Nghề','Lương'])\n",
    "print(df_tuples)"
   ]
  },
  {
   "cell_type": "code",
   "execution_count": 11,
   "id": "b9c27c43",
   "metadata": {},
   "outputs": [],
   "source": [
    "#create a dictionary\n",
    "dic = {'Nghề':['Kế toán','Kinh doanh','Tiếp thị'],'Lương':[2000, 2100, 1900]}"
   ]
  },
  {
   "cell_type": "code",
   "execution_count": 12,
   "id": "984d9ac4",
   "metadata": {},
   "outputs": [
    {
     "name": "stdout",
     "output_type": "stream",
     "text": [
      "         Nghề  Lương\n",
      "0     Kế toán   2000\n",
      "1  Kinh doanh   2100\n",
      "2    Tiếp thị   1900\n"
     ]
    }
   ],
   "source": [
    "#apply dictionary to DF\n",
    "df_dic =pd.DataFrame(dic)\n",
    "print(df_dic)"
   ]
  },
  {
   "cell_type": "code",
   "execution_count": 14,
   "id": "605768d7",
   "metadata": {},
   "outputs": [],
   "source": [
    "#create a series from the dictionary\n",
    "dict = {0 : 'Kế toán', 1 : 'Kinh doanh' , 2 : 'Tiếp thị'}"
   ]
  },
  {
   "cell_type": "code",
   "execution_count": 16,
   "id": "ff85382f",
   "metadata": {},
   "outputs": [
    {
     "name": "stdout",
     "output_type": "stream",
     "text": [
      "0       Kế toán\n",
      "1    Kinh doanh\n",
      "2      Tiếp thị\n",
      "dtype: object\n"
     ]
    }
   ],
   "source": [
    "#apply dictionary's series to DF\n",
    "df_dict_series = pd.Series(dict)\n",
    "print(df_dict_series)"
   ]
  },
  {
   "cell_type": "code",
   "execution_count": 24,
   "id": "cb564fd9",
   "metadata": {},
   "outputs": [
    {
     "name": "stdout",
     "output_type": "stream",
     "text": [
      "[51 65 48 59 68]\n"
     ]
    }
   ],
   "source": [
    "#create a numpy array\n",
    "arr = np.array([51,65,48,59,68])\n",
    "print(arr)"
   ]
  },
  {
   "cell_type": "code",
   "execution_count": 25,
   "id": "e89e5fac",
   "metadata": {},
   "outputs": [
    {
     "name": "stdout",
     "output_type": "stream",
     "text": [
      "0    51\n",
      "1    65\n",
      "2    48\n",
      "3    59\n",
      "4    68\n",
      "dtype: int32\n"
     ]
    }
   ],
   "source": [
    "#apply arry to Series (replace old value)\n",
    "df_dict_series = pd.Series(arr)\n",
    "print(df_dict_series)"
   ]
  },
  {
   "cell_type": "code",
   "execution_count": 29,
   "id": "dfaca6f1",
   "metadata": {},
   "outputs": [
    {
     "name": "stdout",
     "output_type": "stream",
     "text": [
      "0    10\n",
      "1    10\n",
      "2    10\n",
      "3    10\n",
      "4    10\n",
      "5    10\n",
      "dtype: int64\n"
     ]
    }
   ],
   "source": [
    "#Create Series from Scalar Values\n",
    "seri1 = pd.Series(10, index=[0,1,2,3,4,5])\n",
    "print(seri1)"
   ]
  },
  {
   "cell_type": "code",
   "execution_count": null,
   "id": "2540e95b",
   "metadata": {},
   "outputs": [],
   "source": []
  }
 ],
 "metadata": {
  "kernelspec": {
   "display_name": "Python 3 (ipykernel)",
   "language": "python",
   "name": "python3"
  },
  "language_info": {
   "codemirror_mode": {
    "name": "ipython",
    "version": 3
   },
   "file_extension": ".py",
   "mimetype": "text/x-python",
   "name": "python",
   "nbconvert_exporter": "python",
   "pygments_lexer": "ipython3",
   "version": "3.9.13"
  }
 },
 "nbformat": 4,
 "nbformat_minor": 5
}
