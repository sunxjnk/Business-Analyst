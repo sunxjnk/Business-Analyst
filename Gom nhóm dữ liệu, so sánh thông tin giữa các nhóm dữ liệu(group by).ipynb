{
 "cells": [
  {
   "cell_type": "code",
   "execution_count": 1,
   "id": "659f32ac",
   "metadata": {},
   "outputs": [],
   "source": [
    "import pandas as pd"
   ]
  },
  {
   "cell_type": "code",
   "execution_count": 2,
   "id": "ef5119bc",
   "metadata": {},
   "outputs": [],
   "source": [
    "df=pd.read_csv('shopeep_koreantop_clothing_shop_data.csv')"
   ]
  },
  {
   "cell_type": "code",
   "execution_count": 3,
   "id": "40242713",
   "metadata": {},
   "outputs": [
    {
     "data": {
      "text/plain": [
       "name\n",
       " Youku Shangyi fashion store      139.5\n",
       " Zanzea Women's Apparel          1014.0\n",
       "(MEILUN)Men's Fashion             113.0\n",
       "1989minishop                    22280.0\n",
       "5ngyzt5ebj                       7290.0\n",
       "                                 ...   \n",
       "zhufeng2.ph                      1094.0\n",
       "⭐️Pink Star Korea Fashion       37346.0\n",
       "小龙专卖——日用百货                        339.0\n",
       "🌿 Peppermint Shop               28039.0\n",
       "💗Trendy girl💗                     152.0\n",
       "Name: follower_count, Length: 391, dtype: float64"
      ]
     },
     "execution_count": 3,
     "metadata": {},
     "output_type": "execute_result"
    }
   ],
   "source": [
    "#Với mỗi cửa hàng, tính số lượng người theo dõi trung bình\n",
    "df.groupby('name')['follower_count'].mean()"
   ]
  },
  {
   "cell_type": "code",
   "execution_count": 4,
   "id": "dc35acc8",
   "metadata": {},
   "outputs": [
    {
     "data": {
      "text/html": [
       "<div>\n",
       "<style scoped>\n",
       "    .dataframe tbody tr th:only-of-type {\n",
       "        vertical-align: middle;\n",
       "    }\n",
       "\n",
       "    .dataframe tbody tr th {\n",
       "        vertical-align: top;\n",
       "    }\n",
       "\n",
       "    .dataframe thead th {\n",
       "        text-align: right;\n",
       "    }\n",
       "</style>\n",
       "<table border=\"1\" class=\"dataframe\">\n",
       "  <thead>\n",
       "    <tr style=\"text-align: right;\">\n",
       "      <th></th>\n",
       "      <th></th>\n",
       "      <th>rating_bad</th>\n",
       "      <th>rating_good</th>\n",
       "    </tr>\n",
       "    <tr>\n",
       "      <th>join_year</th>\n",
       "      <th>shop_location</th>\n",
       "      <th></th>\n",
       "      <th></th>\n",
       "    </tr>\n",
       "  </thead>\n",
       "  <tbody>\n",
       "    <tr>\n",
       "      <th>2015</th>\n",
       "      <th>Taytay,Rizal</th>\n",
       "      <td>2387</td>\n",
       "      <td>343050</td>\n",
       "    </tr>\n",
       "    <tr>\n",
       "      <th rowspan=\"4\" valign=\"top\">2016</th>\n",
       "      <th>Bacoor,Cavite</th>\n",
       "      <td>191</td>\n",
       "      <td>26249</td>\n",
       "    </tr>\n",
       "    <tr>\n",
       "      <th>Caloocan City,Metro Manila</th>\n",
       "      <td>1967</td>\n",
       "      <td>151821</td>\n",
       "    </tr>\n",
       "    <tr>\n",
       "      <th>Marikina City,Metro Manila</th>\n",
       "      <td>75</td>\n",
       "      <td>2550</td>\n",
       "    </tr>\n",
       "    <tr>\n",
       "      <th>Paranaque City,Metro Manila</th>\n",
       "      <td>722</td>\n",
       "      <td>33438</td>\n",
       "    </tr>\n",
       "    <tr>\n",
       "      <th>...</th>\n",
       "      <th>...</th>\n",
       "      <td>...</td>\n",
       "      <td>...</td>\n",
       "    </tr>\n",
       "    <tr>\n",
       "      <th rowspan=\"5\" valign=\"top\">2021</th>\n",
       "      <th>Santa Cruz,Metro Manila</th>\n",
       "      <td>0</td>\n",
       "      <td>345</td>\n",
       "    </tr>\n",
       "    <tr>\n",
       "      <th>Silang,Cavite</th>\n",
       "      <td>0</td>\n",
       "      <td>48</td>\n",
       "    </tr>\n",
       "    <tr>\n",
       "      <th>Taytay,Rizal</th>\n",
       "      <td>1534</td>\n",
       "      <td>21058</td>\n",
       "    </tr>\n",
       "    <tr>\n",
       "      <th>Tondo I / Ii,Metro Manila</th>\n",
       "      <td>13</td>\n",
       "      <td>1717</td>\n",
       "    </tr>\n",
       "    <tr>\n",
       "      <th>Valenzuela City,Metro Manila</th>\n",
       "      <td>88</td>\n",
       "      <td>20858</td>\n",
       "    </tr>\n",
       "  </tbody>\n",
       "</table>\n",
       "<p>97 rows × 2 columns</p>\n",
       "</div>"
      ],
      "text/plain": [
       "                                        rating_bad  rating_good\n",
       "join_year shop_location                                        \n",
       "2015      Taytay,Rizal                        2387       343050\n",
       "2016      Bacoor,Cavite                        191        26249\n",
       "          Caloocan City,Metro Manila          1967       151821\n",
       "          Marikina City,Metro Manila            75         2550\n",
       "          Paranaque City,Metro Manila          722        33438\n",
       "...                                            ...          ...\n",
       "2021      Santa Cruz,Metro Manila                0          345\n",
       "          Silang,Cavite                          0           48\n",
       "          Taytay,Rizal                        1534        21058\n",
       "          Tondo I / Ii,Metro Manila             13         1717\n",
       "          Valenzuela City,Metro Manila          88        20858\n",
       "\n",
       "[97 rows x 2 columns]"
      ]
     },
     "execution_count": 4,
     "metadata": {},
     "output_type": "execute_result"
    }
   ],
   "source": [
    "#Hàng năm với mỗi địa điểm hãy tính giá trị lớn nhất của lượt đánh giá xấu và đánh giá tốt của người dùng\n",
    "df.groupby(['join_year','shop_location'])[['rating_bad','rating_good']].max()"
   ]
  },
  {
   "cell_type": "code",
   "execution_count": null,
   "id": "5da1a2a4",
   "metadata": {},
   "outputs": [],
   "source": []
  }
 ],
 "metadata": {
  "kernelspec": {
   "display_name": "Python 3 (ipykernel)",
   "language": "python",
   "name": "python3"
  },
  "language_info": {
   "codemirror_mode": {
    "name": "ipython",
    "version": 3
   },
   "file_extension": ".py",
   "mimetype": "text/x-python",
   "name": "python",
   "nbconvert_exporter": "python",
   "pygments_lexer": "ipython3",
   "version": "3.9.13"
  }
 },
 "nbformat": 4,
 "nbformat_minor": 5
}
