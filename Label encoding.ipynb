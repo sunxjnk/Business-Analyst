{
 "cells": [
  {
   "cell_type": "code",
   "execution_count": 1,
   "id": "8848e067",
   "metadata": {},
   "outputs": [],
   "source": [
    "import pandas as pd\n",
    "from sklearn.preprocessing import LabelEncoder"
   ]
  },
  {
   "cell_type": "code",
   "execution_count": 5,
   "id": "e38323d1",
   "metadata": {},
   "outputs": [
    {
     "data": {
      "text/plain": [
       "0       Red\n",
       "1       Red\n",
       "2    Yellow\n",
       "3     Green\n",
       "4    Yellow\n",
       "dtype: object"
      ]
     },
     "execution_count": 5,
     "metadata": {},
     "output_type": "execute_result"
    }
   ],
   "source": [
    "#khởi tạo một series\n",
    "srs = pd.Series([ 'Red', 'Red', 'Yellow', 'Green', 'Yellow'])\n",
    "srs"
   ]
  },
  {
   "cell_type": "markdown",
   "id": "84ded8b5",
   "metadata": {},
   "source": [
    "Do có 3 lớp nên giá trị có thể của các lớp sẽ là (0, 1, 2)"
   ]
  },
  {
   "cell_type": "code",
   "execution_count": 11,
   "id": "99d1a175",
   "metadata": {},
   "outputs": [
    {
     "data": {
      "text/plain": [
       "array([1, 1, 2, 0, 2])"
      ]
     },
     "execution_count": 11,
     "metadata": {},
     "output_type": "execute_result"
    }
   ],
   "source": [
    "#Label encoding bằng SKLearn\n",
    "#encoder = LabelEncoder()\n",
    "lb = LabelEncoder().fit_transform(srs)\n",
    "lb"
   ]
  },
  {
   "cell_type": "code",
   "execution_count": 12,
   "id": "e09a60ec",
   "metadata": {},
   "outputs": [
    {
     "data": {
      "text/plain": [
       "0    1\n",
       "1    1\n",
       "2    2\n",
       "3    0\n",
       "4    2\n",
       "dtype: int8"
      ]
     },
     "execution_count": 12,
     "metadata": {},
     "output_type": "execute_result"
    }
   ],
   "source": [
    "#Label encoding bằng pd\n",
    "lb2 = srs.astype('category').cat.codes\n",
    "lb2"
   ]
  },
  {
   "cell_type": "code",
   "execution_count": null,
   "id": "61602e89",
   "metadata": {},
   "outputs": [],
   "source": []
  }
 ],
 "metadata": {
  "kernelspec": {
   "display_name": "Python 3 (ipykernel)",
   "language": "python",
   "name": "python3"
  },
  "language_info": {
   "codemirror_mode": {
    "name": "ipython",
    "version": 3
   },
   "file_extension": ".py",
   "mimetype": "text/x-python",
   "name": "python",
   "nbconvert_exporter": "python",
   "pygments_lexer": "ipython3",
   "version": "3.9.13"
  }
 },
 "nbformat": 4,
 "nbformat_minor": 5
}
