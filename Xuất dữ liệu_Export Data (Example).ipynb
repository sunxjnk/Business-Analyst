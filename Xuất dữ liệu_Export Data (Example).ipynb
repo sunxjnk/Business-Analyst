{
 "cells": [
  {
   "cell_type": "code",
   "execution_count": 1,
   "id": "a102039c",
   "metadata": {},
   "outputs": [],
   "source": [
    "import pandas as pd"
   ]
  },
  {
   "cell_type": "code",
   "execution_count": 2,
   "id": "fe5c86b2",
   "metadata": {},
   "outputs": [],
   "source": [
    "df=pd.read_csv(filepath_or_buffer = 'FoodPrice_in_Turkey.csv', sep = ',')"
   ]
  },
  {
   "cell_type": "code",
   "execution_count": 3,
   "id": "eeee0c63",
   "metadata": {},
   "outputs": [],
   "source": [
    "#export DataFrame to CSV\n",
    "df.to_csv('demo_FoodPrice.csv')"
   ]
  },
  {
   "cell_type": "code",
   "execution_count": 4,
   "id": "2cdb31bb",
   "metadata": {},
   "outputs": [],
   "source": [
    "#export DataFrame to XLSX\n",
    "df.to_excel('demo_FoodPrice.xlsx')"
   ]
  },
  {
   "cell_type": "code",
   "execution_count": 11,
   "id": "47dbf1f2",
   "metadata": {},
   "outputs": [],
   "source": [
    "#export DataFrame to json file\n",
    "#Orient can be records, columns, indexs, values\n",
    "df_json = df.to_json('demo_FoodPrice.json',orient='columns')"
   ]
  },
  {
   "cell_type": "code",
   "execution_count": 12,
   "id": "e1d43d1e",
   "metadata": {},
   "outputs": [],
   "source": [
    "#Export DataFrame to HTML\n",
    "df.to_html('demo_FoodPrice.html')"
   ]
  },
  {
   "cell_type": "code",
   "execution_count": null,
   "id": "abd04de2",
   "metadata": {},
   "outputs": [],
   "source": [
    " "
   ]
  }
 ],
 "metadata": {
  "kernelspec": {
   "display_name": "Python 3 (ipykernel)",
   "language": "python",
   "name": "python3"
  },
  "language_info": {
   "codemirror_mode": {
    "name": "ipython",
    "version": 3
   },
   "file_extension": ".py",
   "mimetype": "text/x-python",
   "name": "python",
   "nbconvert_exporter": "python",
   "pygments_lexer": "ipython3",
   "version": "3.9.13"
  }
 },
 "nbformat": 4,
 "nbformat_minor": 5
}
