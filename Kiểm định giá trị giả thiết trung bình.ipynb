{
 "cells": [
  {
   "cell_type": "markdown",
   "id": "26ac6be4",
   "metadata": {},
   "source": [
    "Giả sử có một mẫu quan sát về sản lượng của các ruộng khoai tây ở 12 ruộng khác nhau của\n",
    "trang trại, hãy kiểm định rằng năng xuất trung bình của trang trại có phải là 20 kg/m2 hay\n",
    "không với mức ý nghĩa bằng 5%"
   ]
  },
  {
   "cell_type": "code",
   "execution_count": 7,
   "id": "75c88fb7",
   "metadata": {},
   "outputs": [],
   "source": [
    "from scipy.stats import ttest_1samp"
   ]
  },
  {
   "cell_type": "code",
   "execution_count": 2,
   "id": "acd60b21",
   "metadata": {},
   "outputs": [],
   "source": [
    "# giá trị của mẫu\n",
    "x = [21.5, 24.5, 18.5, 17.2, 14.5, 23.2, 22.1, 20.5, 19.4, 18.1, 24.1, 18.5]"
   ]
  },
  {
   "cell_type": "code",
   "execution_count": 3,
   "id": "4259716d",
   "metadata": {},
   "outputs": [
    {
     "data": {
      "text/plain": [
       "[21.5, 24.5, 18.5, 17.2, 14.5, 23.2, 22.1, 20.5, 19.4, 18.1, 24.1, 18.5]"
      ]
     },
     "execution_count": 3,
     "metadata": {},
     "output_type": "execute_result"
    }
   ],
   "source": [
    "x"
   ]
  },
  {
   "cell_type": "code",
   "execution_count": 4,
   "id": "fe90f5fa",
   "metadata": {},
   "outputs": [],
   "source": [
    "tscore, pvalue = ttest_1samp(x, popmean=20)"
   ]
  },
  {
   "cell_type": "code",
   "execution_count": 5,
   "id": "f33b79fb",
   "metadata": {},
   "outputs": [
    {
     "data": {
      "text/plain": [
       "0.2006562773994862"
      ]
     },
     "execution_count": 5,
     "metadata": {},
     "output_type": "execute_result"
    }
   ],
   "source": [
    "tscore"
   ]
  },
  {
   "cell_type": "code",
   "execution_count": 6,
   "id": "88515539",
   "metadata": {},
   "outputs": [
    {
     "data": {
      "text/plain": [
       "0.8446291893053613"
      ]
     },
     "execution_count": 6,
     "metadata": {},
     "output_type": "execute_result"
    }
   ],
   "source": [
    "pvalue"
   ]
  },
  {
   "cell_type": "markdown",
   "id": "f5ea281e",
   "metadata": {},
   "source": [
    "Ở đây có giả trị > 5% nên ta không đủ căn cứ bác bỏ giả thuyết"
   ]
  },
  {
   "cell_type": "markdown",
   "id": "bd74e6cf",
   "metadata": {},
   "source": [
    "Kết luận: Có thể nhận định rằng năng xuất trung bình của trang trại đạt 20kg/m2 với độ tin\n",
    "cậy bằng 95%"
   ]
  },
  {
   "cell_type": "code",
   "execution_count": null,
   "id": "4f70e5e8",
   "metadata": {},
   "outputs": [],
   "source": []
  }
 ],
 "metadata": {
  "kernelspec": {
   "display_name": "Python 3 (ipykernel)",
   "language": "python",
   "name": "python3"
  },
  "language_info": {
   "codemirror_mode": {
    "name": "ipython",
    "version": 3
   },
   "file_extension": ".py",
   "mimetype": "text/x-python",
   "name": "python",
   "nbconvert_exporter": "python",
   "pygments_lexer": "ipython3",
   "version": "3.9.13"
  }
 },
 "nbformat": 4,
 "nbformat_minor": 5
}
